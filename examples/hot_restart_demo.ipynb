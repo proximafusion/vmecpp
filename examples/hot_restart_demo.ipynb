{
 "cells": [
  {
   "cell_type": "code",
   "execution_count": 19,
   "metadata": {},
   "outputs": [],
   "source": [
    "from pathlib import Path\n",
    "\n",
    "import vmecpp"
   ]
  },
  {
   "cell_type": "markdown",
   "metadata": {},
   "source": [
    "Let's load the VMEC++ JSON indata file. We could have just as well used a classic Fortran INDATA file (`input.*`)."
   ]
  },
  {
   "cell_type": "code",
   "execution_count": 20,
   "metadata": {},
   "outputs": [],
   "source": [
    "vmec_input_filename = Path.cwd() / \"data\" / \"cth_like_fixed_bdy.json\"\n",
    "vmec_input = vmecpp.VmecInput.from_file(vmec_input_filename)"
   ]
  },
  {
   "cell_type": "markdown",
   "metadata": {},
   "source": [
    "Let's run VMEC++.\n",
    "\n",
    "In case of errors or non-convergence, a `RuntimeError` is raised.\n",
    "\n",
    "The output object returned has attributes corresponding\n",
    "to the usual VMEC outputs: wout, jxbout, mercier, etc.\n",
    "\n",
    "Hover over `vmecpp.run` to inspect the full signature."
   ]
  },
  {
   "cell_type": "code",
   "execution_count": 26,
   "metadata": {},
   "outputs": [
    {
     "name": "stdout",
     "output_type": "stream",
     "text": [
      "\n",
      " NS = 15   NO. FOURIER MODES = 41   FTOLV = 1.000e-20   NITER = 25000\n",
      "\n",
      " ITER |    FSQR     FSQZ     FSQL    |    fsqr     fsqz      fsql   |   DELT   |  RAX(v=0) |    W_MHD   |   <BETA>   |  <M>  \n",
      "------+------------------------------+------------------------------+----------+-----------+------------+------------+-------\n",
      "    1 | 2.33e-01  1.72e-02  5.22e-02 | 2.45e-03  1.97e-04  1.30e-02 | 7.00e-01 | 7.566e-01 | 5.3447e-02 | 1.8384e-03 | 1.027\n",
      "  200 | 2.16e-08  4.06e-09  3.60e-09 | 1.46e-11  5.70e-12  2.65e-11 | 7.00e-01 | 7.564e-01 | 5.0572e-02 | 1.9280e-03 | 1.035\n",
      "  400 | 1.62e-10  2.97e-11  6.47e-11 | 4.69e-14  3.93e-14  1.45e-13 | 7.00e-01 | 7.566e-01 | 5.0572e-02 | 1.9285e-03 | 1.040\n",
      "  600 | 9.54e-13  2.04e-13  1.25e-13 | 5.86e-17  4.51e-17  3.34e-16 | 7.00e-01 | 7.566e-01 | 5.0572e-02 | 1.9285e-03 | 1.040\n",
      "  800 | 7.01e-15  1.29e-15  1.88e-15 | 1.57e-18  1.05e-18  4.61e-18 | 7.00e-01 | 7.566e-01 | 5.0572e-02 | 1.9285e-03 | 1.040\n",
      " 1000 | 2.46e-16  5.82e-17  1.27e-16 | 1.22e-19  8.14e-20  3.44e-19 | 7.00e-01 | 7.566e-01 | 5.0572e-02 | 1.9285e-03 | 1.040\n",
      " 1200 | 1.85e-17  3.79e-18  8.32e-18 | 7.24e-21  5.22e-21  2.02e-20 | 7.00e-01 | 7.566e-01 | 5.0572e-02 | 1.9285e-03 | 1.040\n",
      " 1400 | 7.27e-18  1.31e-18  3.24e-18 | 2.88e-21  1.95e-21  7.08e-21 | 7.00e-01 | 7.566e-01 | 5.0572e-02 | 1.9285e-03 | 1.040\n",
      " 1600 | 2.44e-18  4.24e-19  6.69e-19 | 6.78e-22  4.41e-22  1.49e-21 | 7.00e-01 | 7.566e-01 | 5.0572e-02 | 1.9285e-03 | 1.040\n",
      " 1800 | 1.20e-18  2.00e-19  4.06e-19 | 3.95e-22  2.56e-22  8.14e-22 | 7.00e-01 | 7.566e-01 | 5.0572e-02 | 1.9285e-03 | 1.040\n",
      " 2000 | 5.70e-19  9.24e-20  1.31e-19 | 1.39e-22  8.55e-23  2.90e-22 | 7.00e-01 | 7.566e-01 | 5.0572e-02 | 1.9285e-03 | 1.040\n",
      " 2200 | 3.38e-19  5.50e-20  8.57e-20 | 8.69e-23  5.65e-23  1.83e-22 | 7.00e-01 | 7.566e-01 | 5.0572e-02 | 1.9285e-03 | 1.040\n",
      " 2400 | 1.89e-19  2.94e-20  3.78e-20 | 3.66e-23  2.35e-23  8.18e-23 | 7.00e-01 | 7.566e-01 | 5.0572e-02 | 1.9285e-03 | 1.040\n",
      " 2600 | 1.05e-19  1.67e-20  1.93e-20 | 1.82e-23  1.19e-23  4.16e-23 | 7.00e-01 | 7.566e-01 | 5.0572e-02 | 1.9285e-03 | 1.040\n",
      " 2800 | 5.89e-20  9.25e-21  9.55e-21 | 9.02e-24  5.75e-24  2.12e-23 | 7.00e-01 | 7.566e-01 | 5.0572e-02 | 1.9285e-03 | 1.040\n",
      " 3000 | 3.23e-20  5.14e-21  5.03e-21 | 4.63e-24  2.98e-24  1.09e-23 | 7.00e-01 | 7.566e-01 | 5.0572e-02 | 1.9285e-03 | 1.040\n",
      " 3026 | 9.75e-21  1.74e-21  5.81e-21 | 5.73e-24  4.02e-24  1.19e-23 | 7.00e-01 | 7.566e-01 | 5.0572e-02 | 1.9285e-03 | 1.040\n",
      "MHD Energy = 5.057191e-02\n",
      "\n",
      "NUMBER OF JACOBIAN RESETS = 0\n"
     ]
    }
   ],
   "source": [
    "vmec_output = vmecpp.run(vmec_input)"
   ]
  },
  {
   "cell_type": "markdown",
   "metadata": {},
   "source": [
    "Now let's perturb the plasma boundary a little bit..."
   ]
  },
  {
   "cell_type": "code",
   "execution_count": 22,
   "metadata": {},
   "outputs": [],
   "source": [
    "# `rbc` contains Fourier coefficients that parameterize the plasma boundary\n",
    "vmec_input.rbc[0, 0] *= 0.9\n",
    "vmec_input.rbc[1, 0] *= 1.1"
   ]
  },
  {
   "cell_type": "markdown",
   "metadata": {},
   "source": [
    "...and run VMEC++ again, but using its \"hot restart\" feature:\n",
    "passing the previously obtained output_quantities ensures that\n",
    "the run starts already close to the equilibrium, so it will take\n",
    "fewer iterations to converge this time."
   ]
  },
  {
   "cell_type": "code",
   "execution_count": 23,
   "metadata": {},
   "outputs": [
    {
     "name": "stdout",
     "output_type": "stream",
     "text": [
      "\n",
      " NS = 15   NO. FOURIER MODES = 41   FTOLV = 1.000e-20   NITER = 25000\n",
      "\n",
      " ITER |    FSQR     FSQZ     FSQL    |    fsqr     fsqz      fsql   |   DELT   |  RAX(v=0) |    W_MHD   |   <BETA>   |  <M>  \n",
      "------+------------------------------+------------------------------+----------+-----------+------------+------------+-------\n",
      "    1 | 8.45e-07  8.80e-08  2.01e-09 | 4.23e-12  1.28e-12  4.01e-12 | 7.00e-01 | 7.566e-01 | 5.0572e-02 | 1.9285e-03 | 1.040\n",
      "  200 | 1.04e-16  2.37e-17  3.68e-18 | 8.70e-22  1.51e-21  1.25e-20 | 7.00e-01 | 7.566e-01 | 5.0572e-02 | 1.9285e-03 | 1.040\n",
      "  400 | 4.56e-19  1.12e-19  7.79e-20 | 3.62e-23  2.46e-23  1.98e-22 | 7.00e-01 | 7.566e-01 | 5.0572e-02 | 1.9285e-03 | 1.040\n",
      "  539 | 9.81e-21  2.22e-21  2.12e-21 | 9.15e-25  6.70e-25  5.36e-24 | 7.00e-01 | 7.566e-01 | 5.0572e-02 | 1.9285e-03 | 1.040\n",
      "MHD Energy = 5.057191e-02\n",
      "\n",
      "NUMBER OF JACOBIAN RESETS = 0\n"
     ]
    }
   ],
   "source": [
    "perturbed_output = vmecpp.run(vmec_input, restart_from=vmec_output, verbose=True)"
   ]
  }
 ],
 "metadata": {
  "kernelspec": {
   "display_name": "venv",
   "language": "python",
   "name": "python3"
  },
  "language_info": {
   "codemirror_mode": {
    "name": "ipython",
    "version": 3
   },
   "file_extension": ".py",
   "mimetype": "text/x-python",
   "name": "python",
   "nbconvert_exporter": "python",
   "pygments_lexer": "ipython3",
   "version": "3.10.12"
  }
 },
 "nbformat": 4,
 "nbformat_minor": 2
}
